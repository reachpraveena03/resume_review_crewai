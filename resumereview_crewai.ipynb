{
  "nbformat": 4,
  "nbformat_minor": 0,
  "metadata": {
    "colab": {
      "provenance": []
    },
    "kernelspec": {
      "name": "python3",
      "display_name": "Python 3"
    },
    "language_info": {
      "name": "python"
    }
  },
  "cells": [
    {
      "cell_type": "code",
      "execution_count": null,
      "metadata": {
        "id": "vb3o-4cA0Obc"
      },
      "outputs": [],
      "source": [
        "!pip install PyMuPDF python-docx openai langchain langchain-openai crewai-tools\n",
        "!pip install git+https://github.com/joaomdmoura/crewai.git"
      ]
    },
    {
      "cell_type": "code",
      "source": [
        "# 📂 Step 2: Upload a Resume File (PDF or DOCX)\n",
        "from google.colab import files\n",
        "uploaded = files.upload()\n",
        "\n",
        "resume_filename = list(uploaded.keys())[0]\n",
        "print(f\"✅ Uploaded file: {resume_filename}\")"
      ],
      "metadata": {
        "id": "jH1YZGDI1vO6"
      },
      "execution_count": null,
      "outputs": []
    },
    {
      "cell_type": "code",
      "source": [
        "import os\n",
        "import fitz  # PyMuPDF\n",
        "import docx  # python-docx\n",
        "\n",
        "from langchain_openai import ChatOpenAI\n",
        "from crewai import Agent, Task, Crew\n",
        "\n",
        "# 🔐 Step 4: Set API Keys\n",
        "# REPLACE with your actual API keys here or use environment variables\n",
        "os.environ[\"OPENAI_API_KEY\"] = \"\"\n",
        "\n",
        "openai_api_key = os.environ.get(\"OPENAI_API_KEY\")\n",
        "\n",
        "# 💬 Step 5: Initialize the OpenAI model\n",
        "llm = ChatOpenAI(model=\"gpt-4o-mini\", openai_api_key=openai_api_key)\n",
        "\n",
        "# 🧾 Step 6: Resume Parsing Functions\n",
        "def extract_text_from_pdf(file_path):\n",
        "    doc = fitz.open(file_path)\n",
        "    text = \"\"\n",
        "    for page in doc:\n",
        "        text += page.get_text()\n",
        "    return text\n",
        "\n",
        "def extract_text_from_docx(file_path):\n",
        "    doc = docx.Document(file_path)\n",
        "    return \"\\n\".join([para.text for para in doc.paragraphs])\n",
        "\n",
        "def extract_text_from_resume(file_path):\n",
        "    if file_path.endswith(\".pdf\"):\n",
        "        return extract_text_from_pdf(file_path)\n",
        "    elif file_path.endswith(\".docx\"):\n",
        "        return extract_text_from_docx(file_path)\n",
        "    else:\n",
        "        return \"Unsupported file format\"\n",
        "\n",
        "# 🧠 Step 7: Read and Extract Resume Text\n",
        "resume_text = extract_text_from_resume(resume_filename)\n",
        "print(\"📄 Resume text extracted:\")\n",
        "print(resume_text[:1000])"
      ],
      "metadata": {
        "id": "Cv5qMH2F2Lez"
      },
      "execution_count": null,
      "outputs": []
    },
    {
      "cell_type": "code",
      "source": [
        "from crewai import Agent, Task, Crew\n",
        "\n",
        "resume_feedback = Agent(\n",
        "    role=\"Professional Resume Advisor\",\n",
        "    goal=\"Give feedback on the resume to make it stand out in the job market.\",\n",
        "    backstory=\"With a strategic mind and an eye for detail, you excel at providing feedback on resumes to highlight the most relevant skills and experiences.\",\n",
        "    verbose=True,\n",
        "    llm=llm\n",
        ")\n",
        "\n",
        "resume_advisor = Agent(\n",
        "    role=\"Professional Resume Writer\",\n",
        "    goal=\"Rewrite the resume to highlight the most relevant skills and experience.\",\n",
        "    backstory=\"With a keen eye for talent presentation, you craft resumes that grab attention and reflect a candidate's true potential.\",\n",
        "    verbose=True,\n",
        "    llm=llm\n",
        ")\n",
        "\n",
        "resume_feedback_task = Task(\n",
        "    description=(\n",
        "        \"Give feedback on the resume to make it stand out for recruiters. \"\n",
        "        \"Review every section, including the summary, work experience, skills, and education. \"\n",
        "        \"Suggest adding relevant sections if they are missing. Also give an overall score to the resume out of 10. \"\n",
        "        \"This is the resume: {resume}\"\n",
        "    ),\n",
        "    expected_output=\"The overall score of the resume followed by the feedback in bullet points.\",\n",
        "    agent=resume_feedback\n",
        ")\n",
        "\n",
        "resume_advisor_task = Task(\n",
        "    description=(\n",
        "        \"Rewrite the resume based on the feedback to make it stand out for recruiters. \"\n",
        "        \"You can adjust and enhance the resume but don't make up facts. Review every section to reflect the candidate's abilities. \"\n",
        "        \"This is the resume: {resume}\"\n",
        "    ),\n",
        "    expected_output=\"Resume in markdown format that effectively highlights the candidate's qualifications and experiences.\",\n",
        "    context=[resume_feedback_task],\n",
        "    agent=resume_advisor\n",
        ")\n",
        "\n",
        "# 🎬 Step 9: Run the CrewAI Workflow\n",
        "crew = Crew(\n",
        "    agents=[resume_feedback, resume_advisor],\n",
        "    tasks=[resume_feedback_task, resume_advisor_task],\n",
        "    verbose=True\n",
        ")\n",
        "\n",
        "result = crew.kickoff(inputs={\"resume\": resume_text})\n",
        "\n",
        "# ✅ Final Output\n",
        "print(\"\\n📝 Final Resume Output:\\n\")\n",
        "print(result)"
      ],
      "metadata": {
        "id": "qYju4wli2frd"
      },
      "execution_count": null,
      "outputs": []
    },
    {
      "cell_type": "code",
      "source": [
        "with open(\"resume.md\", \"w\") as f:\n",
        "    f.write(str(result))"
      ],
      "metadata": {
        "id": "KMrE-SQI3ed9"
      },
      "execution_count": null,
      "outputs": []
    },
    {
      "cell_type": "code",
      "source": [
        "!pip install pypandoc\n",
        "!apt-get install pandoc\n",
        "!apt-get install -y pandoc texlive-xetex texlive-fonts-recommended texlive-generic-recommended"
      ],
      "metadata": {
        "id": "TPjTlqMg3rOM"
      },
      "execution_count": null,
      "outputs": []
    },
    {
      "cell_type": "code",
      "source": [
        "!apt-get install -y texlive-xetex texlive-fonts-recommended texlive-latex-extra"
      ],
      "metadata": {
        "id": "1kk383VH437i"
      },
      "execution_count": null,
      "outputs": []
    },
    {
      "cell_type": "code",
      "source": [
        "import pypandoc\n",
        "\n",
        "output = pypandoc.convert_file(\n",
        "    \"resume.md\",\n",
        "    \"pdf\",\n",
        "    outputfile=\"resume.pdf\",\n",
        "    extra_args=[\"--pdf-engine=xelatex\", \"--variable\", \"geometry:margin=1in\"]\n",
        ")\n",
        "print(\"✅ PDF resume created!\")"
      ],
      "metadata": {
        "id": "sl2e6Zr430HY"
      },
      "execution_count": null,
      "outputs": []
    },
    {
      "cell_type": "code",
      "source": [
        "from google.colab import files\n",
        "files.download(\"resume.pdf\")"
      ],
      "metadata": {
        "id": "O_qzM5H75hI2"
      },
      "execution_count": null,
      "outputs": []
    }
  ]
}